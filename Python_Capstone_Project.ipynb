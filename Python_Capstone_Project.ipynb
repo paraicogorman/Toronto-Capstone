{
    "cells": [
        {
            "metadata": {
                "collapsed": true
            },
            "cell_type": "markdown",
            "source": "# Coursera Python Capstone Notebook"
        },
        {
            "metadata": {},
            "cell_type": "markdown",
            "source": "## Project Title: Food Tourism in Toronto"
        },
        {
            "metadata": {},
            "cell_type": "markdown",
            "source": "### Intoduction: Business Problem \n\nIn this project, we are going to look at the distribution of restrunts accross the city of Toronto. Specifically this project will look at which neighborhoods you can find a high concentration of certain types of cuisine.  \n\nToronto has been named the most diverse city in the world by BBC Radio. Toronto has long been recognized as one of the most multicultural cities in the world, with over 230 different nationalities within Ontario's capital city. It has long been the entry point for many immigrants into the country, and these immigants have brought with them a wid variety of cuisines. Today, these different cuisines can be found in the restraunts and diners that have sprung up in immigrant areas of the city, italian restraunts in little Italy, chinese restraunts in Chinatown etc.\n\nFood tourism is a growing industry in Toronto. Over the years a number of companies have begun running food tours in the city, catering to the needs of these tourists. The goal of this project is to give tourists an idea of where a large number of restraunts catering to a given cuisine. This will be of partivular use to foreign tourists hoping to get a taste of everything New York has to offer. It can also be used by food tourism companies to market specific city neighbourhoods to these tourists.\n\nAt the end of the project, I will suggest the path that food tours can take to most efficiently taste all Toronto has to offer."
        },
        {
            "metadata": {},
            "cell_type": "markdown",
            "source": "### Data\nI will use use Foursquare data to profile the restraunte that can be dound in Toronto. Foursquare is an American technology company focusing on location data. Foursquare has a large repositary of data on retraunts, but it does not have a complete picture of the restraunts that can be found in Toronto. On initial inspection, there are approximately 270 types of venues listed in the Toronto area. Not all of these will be included in the scope of this project. Foursquare data can be found at https://api.foursquare.com\n\nPostal codes and neighbourhood names in Toronto will be taken from Wikipedia: https://en.wikipedia.org/wiki/List_of_postal_codes_of_Canada:_M \n\nSpacial data will be taken from http://cocl.us/Geospatial_data "
        }
    ],
    "metadata": {
        "kernelspec": {
            "name": "python3",
            "display_name": "Python 3.7",
            "language": "python"
        },
        "language_info": {
            "name": "python",
            "version": "3.7.10",
            "mimetype": "text/x-python",
            "codemirror_mode": {
                "name": "ipython",
                "version": 3
            },
            "pygments_lexer": "ipython3",
            "nbconvert_exporter": "python",
            "file_extension": ".py"
        }
    },
    "nbformat": 4,
    "nbformat_minor": 1
}